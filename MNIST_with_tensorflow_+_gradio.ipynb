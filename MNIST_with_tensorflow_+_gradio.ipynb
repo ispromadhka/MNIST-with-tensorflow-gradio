{
  "nbformat": 4,
  "nbformat_minor": 0,
  "metadata": {
    "colab": {
      "provenance": [],
      "toc_visible": true,
      "gpuType": "V5E1",
      "authorship_tag": "ABX9TyPB5CYKc5GoiVZnYdWB4GMV",
      "include_colab_link": true
    },
    "kernelspec": {
      "name": "python3",
      "display_name": "Python 3"
    },
    "language_info": {
      "name": "python"
    },
    "accelerator": "TPU"
  },
  "cells": [
    {
      "cell_type": "markdown",
      "metadata": {
        "id": "view-in-github",
        "colab_type": "text"
      },
      "source": [
        "<a href=\"https://colab.research.google.com/github/ispromadhka/MNIST-with-tensorflow-gradio/blob/main/MNIST_with_tensorflow_%2B_gradio.ipynb\" target=\"_parent\"><img src=\"https://colab.research.google.com/assets/colab-badge.svg\" alt=\"Open In Colab\"/></a>"
      ]
    },
    {
      "cell_type": "markdown",
      "source": [
        "## Imports"
      ],
      "metadata": {
        "id": "D-vQuzkDn6r8"
      }
    },
    {
      "cell_type": "code",
      "source": [
        "!pip install tensorflow gradio"
      ],
      "metadata": {
        "id": "Jn1YPc7Do5j6"
      },
      "execution_count": null,
      "outputs": []
    },
    {
      "cell_type": "code",
      "source": [
        "import matplotlib.pyplot as plt\n",
        "import tensorflow as tf\n",
        "from PIL import Image\n",
        "import pandas as pd\n",
        "import gradio as gr\n",
        "import numpy as np\n",
        "import traceback"
      ],
      "metadata": {
        "id": "j5rjhauclMLq"
      },
      "execution_count": 4,
      "outputs": []
    },
    {
      "cell_type": "markdown",
      "source": [
        "# Data preparetion"
      ],
      "metadata": {
        "id": "cbuuJSXC75et"
      }
    },
    {
      "cell_type": "code",
      "source": [
        "data = tf.keras.datasets.mnist.load_data()\n",
        "# data[:1]"
      ],
      "metadata": {
        "id": "qCkRjgYqshs6"
      },
      "execution_count": null,
      "outputs": []
    },
    {
      "cell_type": "code",
      "source": [
        "(X_train_full, y_train_full) , (X_test, y_test) = tf.keras.datasets.mnist.load_data()\n",
        "\n",
        "X_train_full = X_train_full.astype(\"float32\") / 255.0\n",
        "X_test = X_test.astype(\"float32\") / 255.0\n",
        "\n",
        "X_valid, X_train = X_train_full[:5000], X_train_full[5000:]\n",
        "y_valid, y_train = y_train_full[:5000], y_train_full[5000:]"
      ],
      "metadata": {
        "id": "JpQXg45roex5"
      },
      "execution_count": 6,
      "outputs": []
    },
    {
      "cell_type": "code",
      "source": [
        "X_train = X_train[..., np.newaxis]\n",
        "X_valid = X_valid[..., np.newaxis]\n",
        "X_test  = X_test[..., np.newaxis]"
      ],
      "metadata": {
        "id": "2sQxbFJztQ17"
      },
      "execution_count": 7,
      "outputs": []
    },
    {
      "cell_type": "code",
      "source": [
        "datagen = tf.keras.preprocessing.image.ImageDataGenerator(\n",
        "    rotation_range=10,\n",
        "    width_shift_range=0.1,\n",
        "    height_shift_range=0.1,\n",
        "    zoom_range=0.1\n",
        ")\n",
        "datagen.fit(X_train)"
      ],
      "metadata": {
        "id": "BbsejcupyWWj"
      },
      "execution_count": 8,
      "outputs": []
    },
    {
      "cell_type": "markdown",
      "source": [
        "# Model"
      ],
      "metadata": {
        "id": "HfTSp2x378uJ"
      }
    },
    {
      "cell_type": "code",
      "source": [
        "model = tf.keras.Sequential([\n",
        "    tf.keras.layers.Conv2D(32, (3,3), activation='relu', input_shape=(28,28,1)),\n",
        "    tf.keras.layers.BatchNormalization(),\n",
        "    tf.keras.layers.MaxPooling2D(),\n",
        "    tf.keras.layers.Conv2D(64, (3,3), activation='relu'),\n",
        "    tf.keras.layers.GlobalAveragePooling2D(),\n",
        "    tf.keras.layers.Dropout(0.3),\n",
        "    tf.keras.layers.Dense(10, activation='softmax',kernel_regularizer=tf.keras.regularizers.l2(0.001))\n",
        "])"
      ],
      "metadata": {
        "id": "GMl4ZQawog-7"
      },
      "execution_count": null,
      "outputs": []
    },
    {
      "cell_type": "code",
      "source": [
        "model.compile(\n",
        "        loss='sparse_categorical_crossentropy',\n",
        "        optimizer=tf.keras.optimizers.AdamW(learning_rate=1e-3, weight_decay=1e-4),\n",
        "        metrics=['accuracy']\n",
        "    )"
      ],
      "metadata": {
        "id": "zdcJQKOmokI-"
      },
      "execution_count": 10,
      "outputs": []
    },
    {
      "cell_type": "markdown",
      "source": [
        "## Callbacks"
      ],
      "metadata": {
        "id": "iqjV-61SnSbw"
      }
    },
    {
      "cell_type": "code",
      "source": [
        "early_stop = tf.keras.callbacks.EarlyStopping(\n",
        "    patience=3,\n",
        "    restore_best_weights=True\n",
        ")\n",
        "lr_scheduler = tf.keras.callbacks.ReduceLROnPlateau(\n",
        "    factor=0.5,\n",
        "    patience=3,\n",
        "    verbose=1\n",
        ")\n",
        "checkpoint = tf.keras.callbacks.ModelCheckpoint(\n",
        "    filepath = 'best_model.h5',\n",
        "    save_best_only=True,\n",
        "    monitor='val_accuracy'\n",
        ")"
      ],
      "metadata": {
        "id": "i6bb7yqgDbvd"
      },
      "execution_count": 11,
      "outputs": []
    },
    {
      "cell_type": "markdown",
      "source": [
        "## Learning model"
      ],
      "metadata": {
        "id": "83NVmOxZnci6"
      }
    },
    {
      "cell_type": "code",
      "source": [
        "history = model.fit(\n",
        "    datagen.flow(X_train, y_train, batch_size=32),\n",
        "    validation_data=(X_valid, y_valid),\n",
        "    epochs=10,\n",
        "    batch_size=32,\n",
        "    callbacks=[\n",
        "        early_stop,\n",
        "        lr_scheduler,\n",
        "        checkpoint,\n",
        "    ]\n",
        ")"
      ],
      "metadata": {
        "id": "QMaJJW4pomaF"
      },
      "execution_count": null,
      "outputs": []
    },
    {
      "cell_type": "markdown",
      "source": [
        "## Plot"
      ],
      "metadata": {
        "id": "GMfoK0FanmcT"
      }
    },
    {
      "cell_type": "code",
      "source": [
        "pd.DataFrame(history.history).plot(figsize=(8, 5))\n",
        "plt.grid(True)\n",
        "plt.gca().set_ylim(0, 1)\n",
        "plt.show()"
      ],
      "metadata": {
        "id": "F_3jq6JZA0ne"
      },
      "execution_count": null,
      "outputs": []
    },
    {
      "cell_type": "markdown",
      "source": [
        "# Interface"
      ],
      "metadata": {
        "id": "RkxkecGp8Bmk"
      }
    },
    {
      "cell_type": "code",
      "source": [
        "def predict_digit(image_input):\n",
        "    try:\n",
        "        image_array = None\n",
        "        if isinstance(image_input, dict):\n",
        "            if 'composite' in image_input and image_input['composite'] is not None:\n",
        "                image_array = image_input['composite']\n",
        "            elif 'image' in image_input and image_input['image'] is not None:\n",
        "                image_array = image_input['image']\n",
        "            elif 'background' in image_input and image_input['background'] is not None:\n",
        "                image_array = image_input['background']\n",
        "\n",
        "        if image_array is None:\n",
        "            image_array = image_input\n",
        "\n",
        "        if hasattr(image_array, 'convert'):\n",
        "            pil_image = image_array.convert('L')\n",
        "        elif isinstance(image_array, np.ndarray):\n",
        "            pil_image = Image.fromarray(image_array.astype('uint8')).convert('L')\n",
        "        else:\n",
        "            return \"Invalid input format\"\n",
        "\n",
        "        pil_image = pil_image.resize((28, 28), Image.Resampling.LANCZOS)\n",
        "        input_image = ((255 - np.array(pil_image)).astype('float32') / 255.0).reshape(1, 28, 28, 1)\n",
        "        predictions = model.predict(input_image, verbose=0)\n",
        "        predicted_digit = np.argmax(predictions[0])\n",
        "        confidence = np.max(predictions[0])\n",
        "        result = f\"🎯 The recognized digit: {predicted_digit}\\n\"\n",
        "        result += f\"📊 Confidence: {confidence:.1%}\\n\\n\"\n",
        "        result += \"📈 Probability:\\n\"\n",
        "        for i in range(10):\n",
        "            prob = predictions[0][i]\n",
        "            stars = \"★\" * int(prob * 10)\n",
        "            result += f\"  {i}: {prob*100:.2f}% {stars}\\n\"\n",
        "        return result\n",
        "\n",
        "    except Exception as e:\n",
        "        error_msg = f\" Error:\\n{str(e)}\\n\\n\"\n",
        "        error_msg += f\" Full info about error:\\n{traceback.format_exc()}\"\n",
        "        print(error_msg)\n",
        "        return error_msg"
      ],
      "metadata": {
        "id": "2-q-v39QMrgb"
      },
      "execution_count": 16,
      "outputs": []
    },
    {
      "cell_type": "code",
      "source": [
        "interface = gr.Interface(\n",
        "    fn=predict_digit,\n",
        "    inputs=gr.Sketchpad(type=\"numpy\",label=\"Draw the digit от 0 до 9\"),\n",
        "    outputs=gr.Textbox(label=\"Result\", lines=12),\n",
        "    title=\"🔢 Recognizatoin handmade digit\",\n",
        "    description=\"\"\"\n",
        "    Instructions:\n",
        "    1. Draw a digit in the drawing field\\n 2. Click Submit\\n 3. Get the recognition result \\n The model is trained on the MNIST dataset.\n",
        "    \"\"\",\n",
        "    allow_flagging=\"never\"\n",
        ")\n",
        "\n",
        "print(\"🚀 launicng...\")\n",
        "interface.launch(debug=True, share=True)"
      ],
      "metadata": {
        "id": "--BS85N_Kzzy"
      },
      "execution_count": null,
      "outputs": []
    }
  ]
}